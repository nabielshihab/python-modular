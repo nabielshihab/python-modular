{
 "cells": [
  {
   "cell_type": "markdown",
   "metadata": {},
   "source": [
    "**AUTHOR:**  \n",
    "\n",
    "Nabiel Husein Shihab / nabielshihab@hotmail.com\n",
    "\n",
    "**NOTEBOOK DESCRIPTION**\n",
    "\n",
    "In this session the author would like to invite readers to create a custom library that contains several modules that will be used when needed. We use modules to break down large programs into manageable and organized small files. It is better to define the functions that we use frequently into a module and call them when needed in many other programs, than to define or copy-paste these functions into many programs."
   ]
  },
  {
   "cell_type": "markdown",
   "metadata": {},
   "source": [
    "## Create a Custom Library and Modules\n",
    "\n",
    "This time, the author will create a python **library** named \"library\" which contains several **modules**. The library is in the working directory that we are currently using. In the library there must be a `__init__.py` module (an empty module without any definition or statement) so that the modules in the library can be used in several programs in the working directory.\n",
    "\n",
    "<img src=\"figures/modular_programming.png\" width=\"1000\"/>"
   ]
  },
  {
   "cell_type": "markdown",
   "metadata": {},
   "source": [
    "Within each module there are several functions that will be applied to other programs.\n",
    "\n",
    "> 1. **Mag_of_completeness.py** module, this module contains functions of several estimation methods of magnitude of completeness (Mc) and maximum magnitude for b-value calculations. In addition, this module also contains a function to form a frequency-magnitude distribution. The functions in it are:\n",
    "    1. round_up\n",
    "    2. fmd\n",
    "    3. maxc\n",
    "    4. gft\n",
    "    5. mbs\n",
    "    6. fmd_bvalue\n",
    "    7. fmd_details\n",
    "> 2. **Curve_fitting_method.py** module, this module contains the functions of several *curve fitting* methods for estimating *b-value*, its uncertainty, and also 95% confidence interval. The functions in it are:\n",
    "    1. fit_data_with_poisson\n",
    "    2. fit_data_with_gaussian_glm\n",
    "    3. fit_data_with_gaussian_lm\n",
    "    4. generate_autobvalue\n",
    "> 3. **visualization.py** module, this module contains everything related to visualization. It contains the following functions:\n",
    "    1. plot_eq_distribution\n",
    "    2. plot_bvalue\n",
    "    3. plot_noncum_fmd\n",
    "   \n",
    "These modules will be imported into the `autobvalue` and `selected_autobvalue` programs. both python notebook (.ipynb) and python (.py) file can import modules."
   ]
  },
  {
   "cell_type": "markdown",
   "metadata": {},
   "source": [
    "## Import Functions within a Module into a Program"
   ]
  },
  {
   "cell_type": "markdown",
   "metadata": {},
   "source": [
    "One way to import functions within a module into our program is using the keyword **`from ... import ...`**.   \n",
    " \n",
    "```python \n",
    "from libraryname.modulename import function_1, function_2, function_3, class_1, class_2, class_3\n",
    "```\n",
    "\n",
    "In this example, we will import `round_up` and `fmd` functions within `mag_of_completeness` module within `library` library:\n",
    "```python\n",
    "from library.mag_of_completeness import round_up, fmd\n",
    "```"
   ]
  },
  {
   "cell_type": "markdown",
   "metadata": {},
   "source": [
    "if we want to import all functions / classes within the module, we can use the wildcard character `*` after the `import` keyword. In the example below, we will import all the functions, classes and statements that exist within `mag_of_completeness` module."
   ]
  },
  {
   "cell_type": "code",
   "execution_count": 1,
   "metadata": {},
   "outputs": [],
   "source": [
    "from library.mag_of_completeness import *"
   ]
  },
  {
   "cell_type": "markdown",
   "metadata": {},
   "source": [
    "Now, we can use our `round_up` function!"
   ]
  },
  {
   "cell_type": "code",
   "execution_count": 2,
   "metadata": {},
   "outputs": [
    {
     "name": "stdout",
     "output_type": "stream",
     "text": [
      "2.6\n"
     ]
    }
   ],
   "source": [
    "a = round_up(2.57)\n",
    "print(a)"
   ]
  },
  {
   "cell_type": "code",
   "execution_count": null,
   "metadata": {},
   "outputs": [],
   "source": []
  }
 ],
 "metadata": {
  "kernelspec": {
   "display_name": "Python 3 (ipykernel)",
   "language": "python",
   "name": "python3"
  },
  "language_info": {
   "codemirror_mode": {
    "name": "ipython",
    "version": 3
   },
   "file_extension": ".py",
   "mimetype": "text/x-python",
   "name": "python",
   "nbconvert_exporter": "python",
   "pygments_lexer": "ipython3",
   "version": "3.7.4"
  }
 },
 "nbformat": 4,
 "nbformat_minor": 4
}
